{
 "cells": [
  {
   "cell_type": "code",
   "execution_count": 2,
   "metadata": {
    "collapsed": false
   },
   "outputs": [
    {
     "name": "stderr",
     "output_type": "stream",
     "text": [
      "/usr/local/lib/python2.7/site-packages/sklearn/utils/fixes.py:313: FutureWarning: numpy not_equal will not check object identity in the future. The comparison did not return the same result as suggested by the identity (`is`)) and will change.\n",
      "  _nan_object_mask = _nan_object_array != _nan_object_array\n"
     ]
    }
   ],
   "source": [
    "import cv2\n",
    "import numpy as np\n",
    "import sys\n",
    "import math\n",
    "import sklearn\n",
    "from sklearn import metrics\n",
    "from sklearn.ensemble import RandomForestClassifier\n",
    "from sklearn.svm import LinearSVC\n",
    "from sklearn.model_selection import LeaveOneOut, KFold\n",
    "import matplotlib.pyplot as plt\n",
    "from sklearn.metrics import confusion_matrix\n",
    "import itertools\n"
   ]
  },
  {
   "cell_type": "code",
   "execution_count": 3,
   "metadata": {
    "collapsed": true
   },
   "outputs": [],
   "source": [
    "\n",
    "\n",
    "\n",
    "def getVals(fileName, isVerbose = False):\n",
    "\n",
    "      # Create a VideoCapture object and read from input file\n",
    "      # If the input is the camera, pass 0 instead of the video file name\n",
    "      cap = cv2.VideoCapture(fileName+'.mp4')\n",
    "      # Check if camera opened successfully\n",
    "      if (cap.isOpened()== False): \n",
    "            \n",
    "        print(\"Error opening video stream or file\")\n",
    "        return -1\n",
    "\n",
    "      prevFrame = np.zeros((720,1280))\n",
    "\n",
    "      # Read until video is completed\n",
    "      counter = -1\n",
    "\n",
    "      saveToFile = []\n",
    "      pathThreshold = './vidFrameThreshold/'\n",
    "\n",
    "      pathNormal = './vidFrameNormal/'\n",
    "\n",
    "      isBlink = False\n",
    "\n",
    "      blinkThreshold = 2\n",
    "\n",
    "\n",
    "      blink_timestamp_array = []\n",
    "      while(cap.isOpened()):\n",
    "        # Capture frame-by-frame\n",
    "        ret, frame = cap.read()\n",
    "\n",
    "        \n",
    "        if ret == True:\n",
    "          \n",
    "          frame = cv2.cvtColor(frame, cv2.COLOR_BGR2GRAY)\n",
    "          # frame = cv2.GaussianBlur(  frame, (19,19), 1000)\n",
    "\n",
    "          \n",
    "          \n",
    "            # saveToFile.append((np.ndarray.flatten(abs(frame-prevFrame) ).astype(np.uint8)))\n",
    "          counter+=1\n",
    "          # if counter%2==1:\n",
    "          frame2 = cv2.absdiff(frame.astype(np.uint8), prevFrame.astype(np.uint8))\n",
    "          _, frame2 = cv2.threshold(frame2,20, 255, cv2.THRESH_BINARY)\n",
    "#           name = pathNormal+'vidFrame'+str(counter)+'.png'\n",
    "#           cv2.imwrite(name, frame)\n",
    "\n",
    "\n",
    "          # _, frame = cv2.threshold(frame, 250, 255, cv2.THRESH_BINARY)\n",
    "\n",
    "\n",
    "          if np.mean(frame2)>blinkThreshold and isBlink == False and counter!=0:\n",
    "            blink_timestamp_array.append(cap.get(cv2.CAP_PROP_POS_MSEC))\n",
    "            isBlink = True\n",
    "\n",
    "          elif np.mean(frame2)>blinkThreshold and isBlink == True:\n",
    "            isBlink = False\n",
    "          if counter < 150:\n",
    "              name = pathThreshold+'vidFrame'+str(counter)+'.png'\n",
    "              cv2.imwrite(name, frame2)\n",
    "\n",
    "          if isVerbose:\n",
    "              print counter, np.mean(frame2), len(blink_timestamp_array), isBlink\n",
    "          \n",
    "          # Display the resulting frame\n",
    "          cv2.imshow('Frame', frame2)\n",
    "          \n",
    "          # Press Q on keyboard to  exit\n",
    "          if cv2.waitKey(25) & 0xFF == ord('q'):\n",
    "            break\n",
    "          \n",
    "          #difference between max in previous and current frame\n",
    "          maxDifference = np.max(prevFrame-frame) \n",
    "          # print cap.get(cv2.CAP_PROP_POS_MSEC), counter, maxDifference\n",
    "          prevFrame = frame\n",
    "        # Break the loop\n",
    "        else: \n",
    "          break\n",
    "      \n",
    "      # When everything done, release the video capture object\n",
    "      cap.release()\n",
    "      np.savetxt(\"./differenceFile.csv\", np.asarray(saveToFile))\n",
    "#       print counter\n",
    "      if isVerbose:\n",
    "          print \"Number of blinks:\", len(blink_timestamp_array)\n",
    "          print \"Blink Timestamp: \", blink_timestamp_array\n",
    "      # Closes all the frames\n",
    "      cv2.destroyAllWindows()\n",
    "      if(len(blink_timestamp_array))==0: return -1\n",
    "      return np.ndarray.tolist(np.asarray(blink_timestamp_array) - blink_timestamp_array[0])\n",
    "\n"
   ]
  },
  {
   "cell_type": "code",
   "execution_count": 4,
   "metadata": {
    "collapsed": true
   },
   "outputs": [],
   "source": [
    "def arrangeInBuckets(timeStampArray, interval = 500, totalSize = 60000):\n",
    "\n",
    "    timeStampBuckets = np.zeros((timeStampArray.shape[0], int(totalSize/interval)))\n",
    "    for  i, timeStampArrayI in enumerate(timeStampArray):\n",
    "        for j, val in enumerate(timeStampArrayI):\n",
    "            timeStampBuckets[i][int(math.ceil(val/interval))] += 1 \n",
    "#         timeStampBuckets[i] = np.reshape(timeStampBuckets[i],newshape=( timeStampBuckets[i].shape[0], 1))\n",
    "#         print timeStampBuckets[i].shape \n",
    "        \n",
    "#     timeStampBuckets = np.vstack((np.arange(start=0, stop=totalSize, step=interval), timeStampBuckets))\n",
    "    \n",
    "    return timeStampBuckets\n"
   ]
  },
  {
   "cell_type": "code",
   "execution_count": 5,
   "metadata": {
    "collapsed": true
   },
   "outputs": [],
   "source": [
    "def loadFromVideo(filePath, numVid):\n",
    "\n",
    "    timeStampArray = []\n",
    "    for i in xrange(1,numVid):\n",
    "        fileName = filePath+str(i)\n",
    "        print i\n",
    "        response = getVals(fileName)\n",
    "        if response == -1: continue\n",
    "        timeStampArray.append(response)\n",
    "    timeStampArrayNP = np.asarray(timeStampArray)\n",
    "    print len(timeStampArray)\n",
    "    return timeStampArrayNP"
   ]
  },
  {
   "cell_type": "code",
   "execution_count": 6,
   "metadata": {
    "collapsed": true
   },
   "outputs": [],
   "source": [
    "def writeToFile(npToWrite, fileName):\n",
    "    np.savetxt(fname=fileName, X=npToWrite, delimiter=',')"
   ]
  },
  {
   "cell_type": "code",
   "execution_count": 7,
   "metadata": {
    "collapsed": true
   },
   "outputs": [],
   "source": [
    "def classifyTrain(data, labels, CVal):\n",
    "    classifier = LinearSVC(random_state = 0,max_iter = 1000000, C=CVal)\n",
    "    print data.shape\n",
    "    \n",
    "    classifier.fit(data, labels)\n",
    "    return classifier\n",
    "    "
   ]
  },
  {
   "cell_type": "code",
   "execution_count": 8,
   "metadata": {
    "collapsed": true
   },
   "outputs": [],
   "source": [
    "def randomForest(data, labels):\n",
    "    model = RandomForestClassifier(random_state=42, n_estimators=200, max_depth=4)\n",
    "    model.fit(data, labels)\n",
    "    return randomForest"
   ]
  },
  {
   "cell_type": "code",
   "execution_count": 9,
   "metadata": {
    "collapsed": true
   },
   "outputs": [],
   "source": [
    "def saveArray(fileName, numpyArrayName):\n",
    "    np.save(fileName, numpyArrayName)"
   ]
  },
  {
   "cell_type": "code",
   "execution_count": 10,
   "metadata": {
    "collapsed": true
   },
   "outputs": [],
   "source": [
    "def normalizeBlinkTimes(timeStampArray):\n",
    "    newArray = timeStampArray.copy()\n",
    "    for i, row in enumerate(timeStampArray):\n",
    "        rowNP = np.asarray(timeStampArray[i]).copy()\n",
    "        print np.max(rowNP)\n",
    "        rowNP = rowNP/np.amax(rowNP)\n",
    "        newArray[i] = np.ndarray.tolist(rowNP)\n",
    "    return newArray"
   ]
  },
  {
   "cell_type": "code",
   "execution_count": 11,
   "metadata": {
    "collapsed": true
   },
   "outputs": [],
   "source": [
    "def generateDataset(datasetA, datasetB, limitA, limitB):\n",
    "    trainingSet = np.vstack((datasetA[0:limitA,:], datasetB[0:limitB,:]))\n",
    "#     print trainingSet.shape\n",
    "    validationSet = np.vstack((datasetA[limitA+1:,:], datasetB[limitB+1:, :]))\n",
    "    trainingLabels = np.vstack((np.ones((datasetA[0:limitA,:].shape[0],1)), -1*np.ones((datasetB[0:limitB,:].shape[0],1))))\n",
    "    validationLabels = np.vstack((np.ones((datasetA[limitA+1:,:].shape[0],1)), -1*np.ones((datasetB[limitB+1:,:].shape[0],1))))\n",
    "    \n",
    "    print datasetA[limitA+1,:].shape\n",
    "#     print validationLabels.shape\n",
    "    return [trainingSet, validationSet, trainingLabels, validationLabels]"
   ]
  },
  {
   "cell_type": "code",
   "execution_count": 12,
   "metadata": {
    "collapsed": false
   },
   "outputs": [],
   "source": [
    "def generateMultiLabelDataset(datasetA, datasetB, dataSetC, dataSetD, dataSetE, limitA, limitB, limitC, limitD, limitE):\n",
    "    trainingSet = np.vstack((datasetA[0:limitA,:], datasetB[0:limitB,:], dataSetC[0:limitC,:], dataSetD[0:limitD,:], dataSetE[0:limitE,:]))\n",
    "#     trainingSet = np.vstack((trainingSet, dataSetC[0:limitC,:]))\n",
    "#     print trainingSet.shape\n",
    "    validationSet = np.vstack((datasetA[limitA+1:,:], datasetB[limitB+1:, :], dataSetC[limitC+1:,:], dataSetD[limitD+1, :])\n",
    "                             , dataSetE[limitE+1:,:])\n",
    "    print validationSet.shape\n",
    "#     validationSet = np.vstack((validationSet, dataSetC[limitC+1:,:]))\n",
    "#     print validationSet.shape\n",
    "    trainingLabels = np.vstack((np.ones((datasetA[0:limitA,:].shape[0],1)), 2*np.ones((datasetB[0:limitB,:].shape[0],1))))\n",
    "    trainingLabels = np.vstack((trainingLabels, 3*np.ones((dataSetC[0:limitC,:].shape[0], 1)), 4*ones((dataSetD[0:limitD,:].shape[0]))\n",
    "                               , 4*ones((dataSetE[0:limitE,:].shape[0])) ))\n",
    "    \n",
    "    validationLabels = np.vstack((np.ones((datasetA[limitA+1:,:].shape[0],1)), -1*np.ones((datasetB[limitB+1:,:].shape[0],1))))\n",
    "    validationLabels = np.vstack((validationLabels, 3*np.ones((dataSetC[limitC+1:,:].shape[0])), 4*np.ones((dataSetD[limitD+1:,:].shape[0]))\n",
    "                                                              , dataSetE[limitE+1:,:].shape[0]))\n",
    "    \n",
    "    print datasetA[limitA+1,:].shape\n",
    "#     print validationLabels.shape\n",
    "    return [trainingSet, validationSet, trainingLabels, validationLabels]"
   ]
  },
  {
   "cell_type": "code",
   "execution_count": 13,
   "metadata": {
    "collapsed": true
   },
   "outputs": [],
   "source": [
    "def run_classifier(trainingSet, trainingLabels, validationSet, validationLabels):\n",
    "#     print validationSet.shape, validationLabels.shape\n",
    "    for c in [0.0001, 0.001, 0.01, 0.1, 1, 10, 100, 1000, 10000]:\n",
    "        classifier = classifyTrain(trainingSet, trainingLabels, c)\n",
    "#         classifier = randomForest(trainingSet, trainLabels)\n",
    "        predictions = classifier.predict(validationSet)\n",
    "        counter = 0 \n",
    "        for i in range(len(validationLabels)):\n",
    "            if predictions[i] == validationLabels[i]:\n",
    "                counter += 1\n",
    "\n",
    "        print \"Accuracy is: \", float(counter)/len(predictions)*100, \"%\""
   ]
  },
  {
   "cell_type": "code",
   "execution_count": 14,
   "metadata": {
    "collapsed": true
   },
   "outputs": [],
   "source": [
    "def getMeanBlinks(timeStampArrayNP):\n",
    "    totalBlinks = 0.0\n",
    "    for i in range(timeStampArrayNP.shape[0]):\n",
    "         totalBlinks += len(timeStampArrayNP[i])\n",
    "#     print totalBlinks/i\n",
    "    return totalBlinks/i"
   ]
  },
  {
   "cell_type": "code",
   "execution_count": 15,
   "metadata": {
    "collapsed": true
   },
   "outputs": [],
   "source": [
    "def runKFold(dataSetA, dataSetB, c = 0.01):\n",
    "    overallDataSet = np.vstack((dataSetA, dataSetB))\n",
    "    print overallDataSet.shape\n",
    "    \n",
    "    overallLabels = trainLabels = np.vstack((np.ones((dataSetA.shape[0],1)), -1*np.ones((dataSetB.shape[0],1))))\n",
    "    kFold = KFold(n_splits=5, shuffle=True)\n",
    "    # print type(loo)\n",
    "    accuracy = 0.0\n",
    "    runCount = 0\n",
    "    for train_index, test_index in kFold.split(overallDataSet):\n",
    "            X_train, X_test = overallDataSet[train_index], overallDataSet[test_index]\n",
    "            y_train, y_test = overallLabels[train_index], overallLabels[test_index]\n",
    "\n",
    "            classifier = classifyTrain(X_train, y_train,c)\n",
    "            predictions = classifier.predict(X_test)\n",
    "            counter = 0 \n",
    "            for i in range(len(y_test)):\n",
    "                if predictions[i] == y_test[i]:\n",
    "                    counter += 1\n",
    "            accuracy += float(counter)/len(predictions)\n",
    "            runCount += 1\n",
    "            \n",
    "#             graph = plt.gcf()\n",
    "#             graph.set_size_inches(14, 7)\n",
    "#             plt.plot(range(len(train_error)),train_error)\n",
    "#             plt.title(\"Loss function for logistic regression\")\n",
    "#             plt.xlabel(\"No. of epochs\")\n",
    "#             plt.ylabel(\"L(Theta)\")\n",
    "    print 'Accuracy: ', accuracy/runCount*100, '%'\n",
    "    print accuracy\n",
    "    print runCount"
   ]
  },
  {
   "cell_type": "code",
   "execution_count": 16,
   "metadata": {
    "collapsed": true
   },
   "outputs": [],
   "source": [
    "def runMultiKFold(dataSet, dataLabel, c = 0.01):\n",
    "#     overallDataSet = np.vstack((dataSetA, dataSetB))\n",
    "#     print overallDataSet.shape\n",
    "    \n",
    "#     overallLabels = trainLabels = np.vstack((np.ones((dataSetA.shape[0],1)), -1*np.ones((dataSetB.shape[0],1))))\n",
    "    kFold = KFold(n_splits=5, shuffle=True)\n",
    "    # print type(loo)\n",
    "    accuracy = 0.0\n",
    "    runCount = 0\n",
    "    ctr = 0\n",
    "    for train_index, test_index in kFold.split(dataSet):\n",
    "            X_train, X_test = dataSet[train_index], dataSet[test_index]\n",
    "            y_train, y_test = dataLabel[train_index], dataLabel[test_index]\n",
    "\n",
    "            classifier = classifyTrain(X_train, y_train,c)\n",
    "            predictions = classifier.predict(X_test)\n",
    "            counter = 0 \n",
    "            for i in range(len(y_test)):\n",
    "                if predictions[i] == y_test[i]:\n",
    "                    counter += 1\n",
    "            accuracy += float(counter)/len(predictions)\n",
    "            runCount += 1\n",
    "            if ctr == 0:\n",
    "#                 graph = plt.gcf()\n",
    "#                 graph.set_size_inches(14, 7)\n",
    "#                 plt.plot(range(len(train_error)),train_error)\n",
    "#                 plt.title(\"Loss function for logistic regression\")\n",
    "#                 plt.xlabel(\"No. of epochs\")\n",
    "#                 plt.ylabel(\"L(Theta)\")\n",
    "                \n",
    "                # Compute confusion matrix\n",
    "                cnf_matrix = confusion_matrix(y_test, predictions)\n",
    "                np.set_printoptions(precision=2)\n",
    "\n",
    "                # Plot non-normalized confusion matrix\n",
    "#                 plt.figure()\n",
    "#                 plot_confusion_matrix(cnf_matrix, classes=['google','facebook', 'twitter'],\n",
    "#                                       title='Confusion matrix, without normalization')\n",
    "\n",
    "                # Plot normalized confusion matrix\n",
    "                plt.figure()\n",
    "                plot_confusion_matrix(cnf_matrix, classes=['google','facebook', 'twitter', 'linkedIn', 'youtube'], normalize=True,\n",
    "                                      title='Normalized confusion matrix')\n",
    "\n",
    "                plt.show()\n",
    "            ctr+=1\n",
    "#             counter += 1\n",
    "    print 'Accuracy: ', accuracy/runCount*100, '%'\n",
    "    print accuracy\n",
    "    print runCount"
   ]
  },
  {
   "cell_type": "code",
   "execution_count": 17,
   "metadata": {
    "collapsed": true
   },
   "outputs": [],
   "source": [
    "def getTotalBlinksAndTime(timeStampArrayNP):\n",
    "    for i in range(timeStampArrayNP.shape[0]):\n",
    "         print len(timeStampArrayNP[i]),  timeStampArrayNP[i][len(timeStampArrayNP[i])-1] - timeStampArrayNP[i][0]\n"
   ]
  },
  {
   "cell_type": "code",
   "execution_count": 23,
   "metadata": {
    "collapsed": false,
    "scrolled": true
   },
   "outputs": [
    {
     "name": "stdout",
     "output_type": "stream",
     "text": [
      "1\n",
      "2\n",
      "3\n",
      "4\n",
      "5\n",
      "6\n",
      "7\n",
      "8\n",
      "9\n",
      "10\n",
      "10\n"
     ]
    }
   ],
   "source": [
    "diffTwitterTimeStamp256 = loadFromVideo('./data/diffSpeeds/tw256/tw-256-kbps-',11)"
   ]
  },
  {
   "cell_type": "code",
   "execution_count": 50,
   "metadata": {
    "collapsed": false,
    "scrolled": true
   },
   "outputs": [
    {
     "name": "stdout",
     "output_type": "stream",
     "text": [
      "1\n",
      "2\n",
      "3\n",
      "4\n",
      "5\n",
      "6\n",
      "7\n",
      "8\n",
      "9\n",
      "7\n"
     ]
    }
   ],
   "source": [
    "diffFacebookTimeStamp1 = loadFromVideo('./data/diffSpeeds/fb1/fb-1-mbps-', 10)"
   ]
  },
  {
   "cell_type": "code",
   "execution_count": 26,
   "metadata": {
    "collapsed": false
   },
   "outputs": [
    {
     "name": "stdout",
     "output_type": "stream",
     "text": [
      "1\n",
      "2\n",
      "3\n",
      "4\n",
      "5\n",
      "6\n",
      "7\n",
      "8\n",
      "9\n",
      "10\n",
      "11\n",
      "12\n",
      "13\n",
      "14\n",
      "15\n",
      "16\n",
      "16\n"
     ]
    }
   ],
   "source": [
    "diffFacebookTimeStamp2 = loadFromVideo('./data/diffSpeeds/fb2/fb-2-mbps-', 17)"
   ]
  },
  {
   "cell_type": "code",
   "execution_count": 27,
   "metadata": {
    "collapsed": false
   },
   "outputs": [
    {
     "name": "stdout",
     "output_type": "stream",
     "text": [
      "1\n",
      "2\n",
      "3\n",
      "4\n",
      "5\n",
      "6\n",
      "7\n",
      "8\n",
      "9\n",
      "10\n",
      "11\n",
      "12\n",
      "13\n",
      "14\n",
      "15\n",
      "16\n",
      "17\n",
      "18\n",
      "19\n",
      "20\n",
      "21\n",
      "22\n",
      "22\n"
     ]
    }
   ],
   "source": [
    "diffFacebookTimeStamp4 = loadFromVideo('./data/diffSpeeds/fb4/fb-4-mbps-', 23)"
   ]
  },
  {
   "cell_type": "code",
   "execution_count": 28,
   "metadata": {
    "collapsed": false
   },
   "outputs": [
    {
     "name": "stdout",
     "output_type": "stream",
     "text": [
      "1\n",
      "2\n",
      "3\n",
      "4\n",
      "5\n",
      "6\n",
      "7\n",
      "8\n",
      "9\n",
      "10\n",
      "10\n"
     ]
    }
   ],
   "source": [
    "diffFacebookTimeStamp8 = loadFromVideo('./data/diffSpeeds/fb8/fb-8-mbps-', 11)"
   ]
  },
  {
   "cell_type": "code",
   "execution_count": 29,
   "metadata": {
    "collapsed": false
   },
   "outputs": [
    {
     "name": "stdout",
     "output_type": "stream",
     "text": [
      "1\n",
      "2\n",
      "3\n",
      "4\n",
      "5\n",
      "6\n",
      "6\n"
     ]
    }
   ],
   "source": [
    "diffFacebookTimeStamp16 = loadFromVideo('./data/diffSpeeds/fb16/fb-16-mbps-', 7)"
   ]
  },
  {
   "cell_type": "code",
   "execution_count": 23,
   "metadata": {
    "collapsed": false
   },
   "outputs": [
    {
     "name": "stdout",
     "output_type": "stream",
     "text": [
      "<type 'numpy.ndarray'>\n"
     ]
    }
   ],
   "source": [
    "print type(timeStampArrayYoutubeNP)"
   ]
  },
  {
   "cell_type": "code",
   "execution_count": 78,
   "metadata": {
    "collapsed": true
   },
   "outputs": [
    {
     "name": "stdout",
     "output_type": "stream",
     "text": [
      "1\n",
      "2\n",
      "3\n",
      "4\n",
      "5\n",
      "6\n",
      "7\n",
      "8\n",
      "9\n",
      "10\n",
      "11\n",
      "12\n",
      "13\n",
      "14\n",
      "15\n",
      "16\n",
      "17\n",
      "18\n",
      "19\n",
      "20\n",
      "21\n",
      "22\n",
      "23\n",
      "24\n",
      "25\n",
      "26\n",
      "27\n",
      "28\n",
      "29\n",
      "30\n",
      "31\n",
      "32\n",
      "33\n",
      "34\n",
      "35\n",
      "36\n",
      "37\n",
      "38\n",
      "39\n",
      "40\n",
      "41\n",
      "42\n",
      "43\n",
      "44\n",
      "45\n",
      "46\n",
      "47\n",
      "48\n",
      "49\n",
      "50\n",
      "51\n",
      "52\n",
      "53\n",
      "54\n",
      "55\n",
      "56\n",
      "57\n",
      "58\n",
      "59\n",
      "60\n",
      "61\n",
      "61\n"
     ]
    }
   ],
   "source": [
    "# timeStampArrayTwitterNP = loadFromVideo('./data/twitter/TW', 62)"
   ]
  },
  {
   "cell_type": "code",
   "execution_count": 130,
   "metadata": {
    "collapsed": false
   },
   "outputs": [
    {
     "name": "stdout",
     "output_type": "stream",
     "text": [
      "1\n",
      "1\n"
     ]
    }
   ],
   "source": [
    "# x = loadFromVideo('./data/google/google', 2)"
   ]
  },
  {
   "cell_type": "code",
   "execution_count": 35,
   "metadata": {
    "collapsed": true
   },
   "outputs": [],
   "source": [
    "saveArray('linkedInTimeStamps.npy', timeStampArrayLinkedInNP)"
   ]
  },
  {
   "cell_type": "code",
   "execution_count": 51,
   "metadata": {
    "collapsed": true
   },
   "outputs": [],
   "source": [
    "saveArray('diffTwitterTimeStamp256.npy', diffTwitterTimeStamp256)\n",
    "saveArray('diffFacebookTimeStamp1.npy', diffFacebookTimeStamp1)\n",
    "saveArray('diffFacebookTimeStamp2.npy', diffFacebookTimeStamp2)\n",
    "saveArray('diffFacebookTimeStamp4.npy', diffFacebookTimeStamp4)\n",
    "saveArray('diffFacebookTimeStamp8.npy', diffFacebookTimeStamp8)\n",
    "saveArray('diffFacebookTimeStamp16.npy', diffFacebookTimeStamp16)\n"
   ]
  },
  {
   "cell_type": "code",
   "execution_count": 18,
   "metadata": {
    "collapsed": true
   },
   "outputs": [],
   "source": [
    "timeStampArrayNP = np.load('googleTimeStamps.npy')\n",
    "timeStampArrayFBNP = np.load('facebookTimeStamps.npy')\n",
    "timeStampArrayTwitterNP = np.load('twitterTimeStamps.npy')\n",
    "timeStampArrayYoutubeNP = np.load('youtubeTimeStamps.npy')\n",
    "timeStampArrayLinkedInNP = np.load('linkedInTimeStamps.npy')\n"
   ]
  },
  {
   "cell_type": "code",
   "execution_count": 19,
   "metadata": {
    "collapsed": true
   },
   "outputs": [],
   "source": [
    "diffFacebookTimeStamp1 = np.load('diffFacebookTimeStamp1.npy')\n",
    "diffFacebookTimeStamp2 = np.load('diffFacebookTimeStamp2.npy')\n",
    "diffFacebookTimeStamp4 = np.load('diffFacebookTimeStamp4.npy')\n",
    "diffFacebookTimeStamp8 = np.load('diffFacebookTimeStamp8.npy')\n",
    "diffFacebookTimeStamp16 = np.load('diffFacebookTimeStamp16.npy')\n",
    "diffTwitterTimeStamp256 = np.load('diffTwitterTimeStamp256.npy')\n"
   ]
  },
  {
   "cell_type": "code",
   "execution_count": 20,
   "metadata": {
    "collapsed": false
   },
   "outputs": [],
   "source": [
    "timeStampBuckets = arrangeInBuckets(np.asarray(timeStampArrayNP))\n",
    "timeStampBucketsFB = arrangeInBuckets(np.asarray(timeStampArrayFBNP))\n",
    "timeStampBucketsTwitter = arrangeInBuckets(np.asarray(timeStampArrayTwitterNP))\n",
    "timeStampBucketsYoutube = arrangeInBuckets(np.asarray(timeStampArrayYoutubeNP))\n",
    "timeStampBucketsLinkedIn = arrangeInBuckets(np.asarray(timeStampArrayLinkedInNP))\n"
   ]
  },
  {
   "cell_type": "code",
   "execution_count": 21,
   "metadata": {
    "collapsed": false
   },
   "outputs": [],
   "source": [
    "diffTwitterTimeStampBucket256 = arrangeInBuckets(np.asarray(diffTwitterTimeStamp256))\n",
    "diffFacebookTimeStampBucket1  = arrangeInBuckets(np.asarray(diffFacebookTimeStamp1))\n",
    "diffFacebookTimeStampBucket2 = arrangeInBuckets(np.asarray(diffFacebookTimeStamp2))\n",
    "diffFacebookTimeStampBucket4 = arrangeInBuckets(np.asarray(diffFacebookTimeStamp4))\n",
    "diffFacebookTimeStampBucket8 = arrangeInBuckets(np.asarray(diffFacebookTimeStamp8))\n",
    "diffFacebookTimeStampBucket16 = arrangeInBuckets(np.asarray(diffFacebookTimeStamp16))"
   ]
  },
  {
   "cell_type": "code",
   "execution_count": 44,
   "metadata": {
    "collapsed": false
   },
   "outputs": [
    {
     "name": "stdout",
     "output_type": "stream",
     "text": [
      "Write Complete\n"
     ]
    }
   ],
   "source": [
    "writeToFile(timeStampBucketsLinkedIn, 'timeStampBucketsLinkedIn500.csv')\n",
    "writeToFile(timeStampBucketsYoutube, 'timeStampBucketsYoutube500.csv')\n",
    "print \"Write Complete\""
   ]
  },
  {
   "cell_type": "code",
   "execution_count": 36,
   "metadata": {
    "collapsed": true
   },
   "outputs": [
    {
     "name": "stdout",
     "output_type": "stream",
     "text": [
      "1\n",
      "2\n",
      "3\n",
      "4\n",
      "5\n",
      "6\n",
      "7\n",
      "8\n",
      "problem for this i\n",
      "9\n",
      "10\n",
      "11\n",
      "12\n",
      "13\n",
      "14\n",
      "15\n",
      "16\n",
      "17\n",
      "18\n",
      "19\n",
      "20\n",
      "21\n",
      "22\n",
      "23\n",
      "24\n",
      "25\n",
      "26\n",
      "27\n",
      "28\n",
      "29\n",
      "30\n",
      "31\n",
      "32\n",
      "33\n",
      "34\n",
      "35\n",
      "36\n",
      "37\n",
      "38\n",
      "39\n",
      "40\n",
      "41\n",
      "42\n",
      "43\n",
      "44\n",
      "45\n",
      "46\n",
      "47\n",
      "48\n",
      "49\n",
      "50\n",
      "51\n",
      "52\n",
      "53\n",
      "54\n",
      "55\n",
      "56\n",
      "57\n",
      "58\n"
     ]
    }
   ],
   "source": [
    "\n",
    "# timeStampArrayFacebook = []\n",
    "# for i in xrange(1,59):\n",
    "#     fileName = './data/facebook/FB'+str(i)\n",
    "#     print i\n",
    "#     iterVal = getVals(fileName)\n",
    "#     if iterVal==-1: \n",
    "#         print 'problem for this i'\n",
    "#         continue\n",
    "#     timeStampArrayFacebook.append(iterVal)\n",
    "    \n",
    "    \n",
    "\n",
    "timeStampArrayFBNP = np.asarray(timeStampArrayFacebook)\n",
    "timeStampBucketsFB = arrangeInBuckets(np.asarray(timeStampArrayFBNP))"
   ]
  },
  {
   "cell_type": "code",
   "execution_count": 113,
   "metadata": {
    "collapsed": true
   },
   "outputs": [],
   "source": [
    "trainingSet = np.vstack((timeStampBuckets[0:48,:], timeStampBucketsFB[0:48,:]))"
   ]
  },
  {
   "cell_type": "code",
   "execution_count": 114,
   "metadata": {
    "collapsed": true
   },
   "outputs": [],
   "source": [
    "validationSet = np.vstack((timeStampBuckets[49:,:], timeStampBucketsFB[49:, :]))"
   ]
  },
  {
   "cell_type": "code",
   "execution_count": 115,
   "metadata": {
    "collapsed": true,
    "scrolled": true
   },
   "outputs": [],
   "source": [
    "trainLabels = np.vstack((np.ones((timeStampBuckets[0:48,:].shape[0],1)), -1*np.ones((timeStampBucketsFB[0:48,:].shape[0],1))))"
   ]
  },
  {
   "cell_type": "code",
   "execution_count": 116,
   "metadata": {
    "collapsed": false
   },
   "outputs": [
    {
     "name": "stdout",
     "output_type": "stream",
     "text": [
      "(96, 1)\n",
      "(96, 120)\n",
      "(14, 1)\n",
      "(15, 120)\n"
     ]
    }
   ],
   "source": [
    "\n",
    "print np.shape(trainLabels)\n",
    "print trainingSet.shape\n",
    "print validationLabels.shape\n",
    "print validationSet.shape"
   ]
  },
  {
   "cell_type": "code",
   "execution_count": 117,
   "metadata": {
    "collapsed": true
   },
   "outputs": [],
   "source": [
    "validationLabels = np.vstack((np.ones((timeStampBuckets[49:,:].shape[0],1)), -1*np.ones((timeStampBucketsFB[49:,:].shape[0],1))))"
   ]
  },
  {
   "cell_type": "code",
   "execution_count": 118,
   "metadata": {
    "collapsed": true
   },
   "outputs": [],
   "source": [
    "predictions = classifier.predict(validationSet)"
   ]
  },
  {
   "cell_type": "code",
   "execution_count": 120,
   "metadata": {
    "collapsed": false
   },
   "outputs": [
    {
     "name": "stdout",
     "output_type": "stream",
     "text": [
      "(96, 120)\n"
     ]
    }
   ],
   "source": [
    "print np.shape(trainingSet)"
   ]
  },
  {
   "cell_type": "code",
   "execution_count": 51,
   "metadata": {
    "collapsed": false
   },
   "outputs": [
    {
     "name": "stdout",
     "output_type": "stream",
     "text": [
      "(2, 48)\n"
     ]
    }
   ],
   "source": [
    "print np.shape(trainLabels)"
   ]
  },
  {
   "cell_type": "code",
   "execution_count": 121,
   "metadata": {
    "collapsed": false
   },
   "outputs": [
    {
     "name": "stdout",
     "output_type": "stream",
     "text": [
      "0.866666666667\n",
      "0.866666666667\n",
      "0.866666666667\n",
      "0.866666666667\n",
      "0.866666666667\n"
     ]
    }
   ],
   "source": []
  },
  {
   "cell_type": "code",
   "execution_count": 237,
   "metadata": {
    "collapsed": true
   },
   "outputs": [],
   "source": [
    "writeToFile(timeStampBuckets, 'timeStampBucketGoogle.csv')\n",
    "writeToFile(timeStampBucketsFB, 'timeStampBucketFB500.csv')\n",
    "writeToFile(timeStampBucketsTwitter, 'timeStampBucketTwitter500.csv')"
   ]
  },
  {
   "cell_type": "code",
   "execution_count": 124,
   "metadata": {
    "collapsed": true
   },
   "outputs": [],
   "source": [
    "\n",
    "np.save('googleTimeStamps.npy',timeStampArrayNP)\n",
    "np.save('facebookTimeStamps.npy', timeStampArrayFBNP)"
   ]
  },
  {
   "cell_type": "code",
   "execution_count": 125,
   "metadata": {
    "collapsed": true
   },
   "outputs": [],
   "source": [
    "temp = np.load('googleTimeStamps.npy')"
   ]
  },
  {
   "cell_type": "code",
   "execution_count": 126,
   "metadata": {
    "collapsed": false
   },
   "outputs": [
    {
     "name": "stdout",
     "output_type": "stream",
     "text": [
      "(56,)\n",
      "(56,)\n"
     ]
    }
   ],
   "source": [
    "print temp.shape\n",
    "print timeStampArrayNP.shape"
   ]
  },
  {
   "cell_type": "code",
   "execution_count": 22,
   "metadata": {
    "collapsed": false
   },
   "outputs": [
    {
     "name": "stdout",
     "output_type": "stream",
     "text": [
      "8733.33333333\n",
      "10100.0\n",
      "9000.0\n",
      "12100.0\n",
      "10300.0\n",
      "14233.3333333\n",
      "12666.6666667\n",
      "10800.0\n",
      "11133.3333333\n",
      "20266.6666667\n",
      "12233.3333333\n",
      "15166.6666667\n",
      "11200.0\n",
      "11966.6666667\n",
      "11733.3333333\n",
      "13300.0\n",
      "12366.6666667\n",
      "12766.6666667\n",
      "14033.3333333\n",
      "12133.3333333\n",
      "13866.6666667\n",
      "11333.3333333\n",
      "14533.3333333\n",
      "13300.0\n",
      "10900.0\n",
      "11266.6666667\n",
      "13833.3333333\n",
      "14033.3333333\n",
      "11633.3333333\n",
      "10366.6666667\n",
      "20733.3333333\n",
      "16466.6666667\n",
      "11366.6666667\n",
      "15833.3333333\n",
      "10933.3333333\n",
      "19966.6666667\n",
      "20100.0\n",
      "16700.0\n",
      "12300.0\n",
      "23466.6666667\n",
      "12900.0\n",
      "12333.3333333\n",
      "14100.0\n",
      "11766.6666667\n",
      "10733.3333333\n",
      "11433.3333333\n",
      "11666.6666667\n",
      "12033.3333333\n",
      "16133.3333333\n",
      "14133.3333333\n",
      "11833.3333333\n",
      "11800.0\n",
      "11700.0\n",
      "18133.3333333\n",
      "12233.3333333\n",
      "15800.0\n",
      "30833.3333333\n",
      "30733.3333333\n",
      "33833.3333333\n",
      "26300.0\n",
      "30533.3333333\n",
      "25433.3333333\n",
      "1800.0\n",
      "30433.3333333\n",
      "29966.6666667\n",
      "24966.6666667\n",
      "32233.3333333\n",
      "26600.0\n",
      "25533.3333333\n",
      "24700.0\n",
      "32433.3333333\n",
      "30400.0\n",
      "25800.0\n",
      "25066.6666667\n",
      "25766.6666667\n",
      "25000.0\n",
      "26400.0\n",
      "29800.0\n",
      "25133.3333333\n",
      "30033.3333333\n",
      "31866.6666667\n",
      "30833.3333333\n",
      "24933.3333333\n",
      "24066.6666667\n",
      "31266.6666667\n",
      "26266.6666667\n",
      "25733.3333333\n",
      "24533.3333333\n",
      "29900.0\n",
      "25100.0\n",
      "25466.6666667\n",
      "25533.3333333\n",
      "32733.3333333\n",
      "26400.0\n",
      "31666.6666667\n",
      "26233.3333333\n",
      "30700.0\n",
      "30366.6666667\n",
      "24900.0\n",
      "30366.6666667\n",
      "1800.0\n",
      "1733.33333333\n",
      "25500.0\n",
      "31966.6666667\n",
      "25100.0\n",
      "24966.6666667\n",
      "24400.0\n",
      "25066.6666667\n",
      "25533.3333333\n",
      "16966.6666667\n",
      "25533.3333333\n",
      "29633.3333333\n",
      "25133.3333333\n",
      "16133.3333333\n",
      "16500.0\n",
      "16633.3333333\n",
      "16233.3333333\n",
      "16933.3333333\n",
      "16500.0\n",
      "17000.0\n",
      "15400.0\n",
      "16533.3333333\n",
      "15100.0\n",
      "15833.3333333\n",
      "15300.0\n",
      "15033.3333333\n",
      "14600.0\n",
      "13800.0\n",
      "14966.6666667\n",
      "14166.6666667\n",
      "16066.6666667\n",
      "15300.0\n",
      "14900.0\n",
      "15066.6666667\n",
      "14900.0\n",
      "15566.6666667\n",
      "15200.0\n",
      "14866.6666667\n",
      "15466.6666667\n",
      "15566.6666667\n",
      "14966.6666667\n",
      "14566.6666667\n",
      "14533.3333333\n",
      "15066.6666667\n",
      "14933.3333333\n",
      "14966.6666667\n",
      "15033.3333333\n",
      "15000.0\n",
      "15633.3333333\n",
      "13566.6666667\n",
      "15100.0\n",
      "14600.0\n",
      "14333.3333333\n",
      "15966.6666667\n",
      "13966.6666667\n",
      "15000.0\n",
      "14966.6666667\n",
      "15000.0\n",
      "15466.6666667\n",
      "15766.6666667\n",
      "15966.6666667\n",
      "14166.6666667\n",
      "14466.6666667\n",
      "15266.6666667\n",
      "15066.6666667\n",
      "15766.6666667\n",
      "15900.0\n",
      "15400.0\n",
      "15500.0\n",
      "14600.0\n",
      "15333.3333333\n",
      "15566.6666667\n",
      "15300.0\n",
      "15333.3333333\n",
      "29600.0\n",
      "30866.6666667\n",
      "33500.0\n",
      "30400.0\n",
      "32200.0\n",
      "20566.6666667\n",
      "33600.0\n",
      "33133.3333333\n",
      "32233.3333333\n",
      "32333.3333333\n",
      "32900.0\n",
      "533.333333333\n",
      "28133.3333333\n",
      "31066.6666667\n",
      "33800.0\n",
      "31566.6666667\n",
      "32666.6666667\n",
      "30033.3333333\n",
      "29966.6666667\n",
      "29966.6666667\n",
      "33766.6666667\n",
      "27733.3333333\n",
      "27600.0\n",
      "33400.0\n",
      "32500.0\n",
      "11566.6666667\n",
      "9133.33333333\n",
      "9933.33333333\n",
      "7733.33333333\n",
      "9633.33333333\n",
      "9133.33333333\n",
      "8500.0\n",
      "7700.0\n",
      "9600.0\n",
      "10800.0\n",
      "11100.0\n",
      "10500.0\n",
      "9466.66666667\n",
      "8600.0\n",
      "8766.66666667\n",
      "9766.66666667\n",
      "7766.66666667\n",
      "9233.33333333\n",
      "8833.33333333\n",
      "7766.66666667\n",
      "8933.33333333\n",
      "8566.66666667\n",
      "8700.0\n",
      "10100.0\n",
      "9733.33333333\n",
      "8266.66666667\n",
      "10733.3333333\n",
      "8800.0\n",
      "11233.3333333\n",
      "10400.0\n",
      "9266.66666667\n",
      "8166.66666667\n",
      "8633.33333333\n",
      "9266.66666667\n",
      "9266.66666667\n",
      "8933.33333333\n",
      "10166.6666667\n",
      "8533.33333333\n",
      "10800.0\n",
      "9533.33333333\n",
      "9000.0\n",
      "7633.33333333\n",
      "10166.6666667\n",
      "4200.0\n",
      "8100.0\n",
      "9533.33333333\n",
      "10566.6666667\n",
      "7666.66666667\n",
      "10933.3333333\n",
      "11066.6666667\n",
      "11533.3333333\n",
      "9533.33333333\n",
      "12000.0\n",
      "9600.0\n",
      "8900.0\n",
      "9666.66666667\n",
      "10266.6666667\n"
     ]
    }
   ],
   "source": [
    "# print type(timeStampArrayNP)\n",
    "googleNormalizedTimeStamp = normalizeBlinkTimes(timeStampArrayNP)\n",
    "facebookNormalizedTimeStamp = normalizeBlinkTimes(timeStampArrayFBNP) \n",
    "twitterNormalizedTimeStamp = normalizeBlinkTimes(timeStampArrayTwitterNP)\n",
    "youtubeNormalizedTimeStamp = normalizeBlinkTimes(timeStampArrayYoutubeNP)\n",
    "linkedInNormalizedTimeStamp = normalizeBlinkTimes(timeStampArrayLinkedInNP)"
   ]
  },
  {
   "cell_type": "code",
   "execution_count": 24,
   "metadata": {
    "collapsed": true
   },
   "outputs": [
    {
     "name": "stdout",
     "output_type": "stream",
     "text": [
      "26685.5381367\n",
      "25439.2757851\n",
      "26508.1375862\n",
      "26488.8137055\n",
      "26594.1994008\n",
      "25472.3310093\n",
      "25534.2094118\n",
      "25424.7583333\n",
      "27597.0125604\n",
      "26472.5073238\n",
      "11684.709422\n",
      "10602.5826232\n",
      "9577.37487335\n",
      "11727.2401594\n",
      "12769.0770787\n",
      "12670.1686891\n",
      "12802.2189266\n",
      "6634.09372146\n",
      "7702.08733766\n",
      "9513.11794872\n",
      "7753.82302189\n",
      "7588.77847659\n",
      "7555.82186495\n",
      "6477.42307692\n",
      "8479.73910534\n",
      "6344.64920128\n",
      "9638.08642735\n",
      "7447.58503401\n",
      "9601.64120654\n",
      "7505.471157\n",
      "8493.41203136\n",
      "7490.03654244\n",
      "8611.77025316\n",
      "5415.98918919\n",
      "5286.86443381\n",
      "4402.72628205\n",
      "6350.91445428\n",
      "4292.87709751\n",
      "4355.94680484\n",
      "5152.6745098\n",
      "3303.11230585\n",
      "6449.68188737\n",
      "5352.44016393\n",
      "5385.22169935\n",
      "3299.57586619\n",
      "5420.58834244\n",
      "4363.8245283\n",
      "4398.39194313\n",
      "5180.25480043\n",
      "4336.03791469\n",
      "5337.07984749\n",
      "3181.9738437\n",
      "3266.51707317\n",
      "3139.21765272\n",
      "3246.86677402\n",
      "4336.2788951\n",
      "2246.93415133\n",
      "2178.52077295\n",
      "2082.13333333\n",
      "3266.43225806\n",
      "3275.28757764\n",
      "3173.09223744\n",
      "2188.27594937\n",
      "2185.55238095\n",
      "3233.52965155\n",
      "3206.71413544\n",
      "3234.06091686\n",
      "3309.92592593\n",
      "3137.72315593\n",
      "4255.95023474\n",
      "3035.54874875\n"
     ]
    }
   ],
   "source": [
    "diffTwitterNormalizedTimeStamp256 = normalizeBlinkTimes(diffTwitterTimeStamp256)\n",
    "diffFacebookNormalizedTimeStamp1 = normalizeBlinkTimes(diffFacebookTimeStamp1)\n",
    "diffFacebookNormalizedTimeStamp2 = normalizeBlinkTimes(diffFacebookTimeStamp2)\n",
    "diffFacebookNormalizedTimeStamp4 = normalizeBlinkTimes(diffFacebookTimeStamp4)\n",
    "diffFacebookNormalizedTimeStamp8 = normalizeBlinkTimes(diffFacebookTimeStamp8)\n",
    "diffFacebookNormalizedTimeStamp16 = normalizeBlinkTimes(diffFacebookTimeStamp16)\n"
   ]
  },
  {
   "cell_type": "code",
   "execution_count": 79,
   "metadata": {
    "collapsed": false
   },
   "outputs": [
    {
     "name": "stdout",
     "output_type": "stream",
     "text": [
      "[0.0, 0.04207920792079208, 0.04455445544554455, 0.04702970297029702, 0.08539603960396039, 0.12128712871287128, 0.12623762376237624, 0.1621287128712871, 0.16460396039603958, 0.20297029702970293, 0.2054455445544554, 0.24381188118811878, 0.28217821782178215, 0.28465346534653463, 0.3205445544554455, 0.323019801980198, 0.3613861386138614, 0.36386138613861385, 0.3997524752475247, 0.4022277227722772, 0.43935643564356436, 0.48019801980198024, 0.4826732673267327, 0.5198019801980198, 0.5222772277227723, 0.5581683168316831, 0.5631188118811881, 0.5990099009900989, 0.6373762376237624, 0.6423267326732673, 0.6782178217821782, 0.7165841584158416, 0.719059405940594, 0.7574257425742573, 0.7599009900990099, 0.8007425742574258, 0.8391089108910891, 0.8762376237623762, 0.8787128712871287, 0.917079207920792, 0.9195544554455446, 0.9591584158415841, 0.995049504950495, 1.0]\n"
     ]
    }
   ],
   "source": [
    "print (diffTwitterNormalizedTimeStamp256[0])"
   ]
  },
  {
   "cell_type": "code",
   "execution_count": 25,
   "metadata": {
    "collapsed": false
   },
   "outputs": [],
   "source": [
    "googleNormalizedBuckets = arrangeInBuckets(timeStampArray=googleNormalizedTimeStamp, interval=0.01, totalSize=1.1)\n",
    "facebookNormalizedBuckets = arrangeInBuckets(timeStampArray=facebookNormalizedTimeStamp, interval=0.01, totalSize=1.1)\n",
    "twitterNormalizedBuckets = arrangeInBuckets(timeStampArray=twitterNormalizedTimeStamp, interval=0.01, totalSize=1.1)\n",
    "youtubeNormalizedBuckets = arrangeInBuckets(timeStampArray=youtubeNormalizedTimeStamp, interval=0.01, totalSize=1.1)\n",
    "linkedInNormalizedBuckets = arrangeInBuckets(timeStampArray=linkedInNormalizedTimeStamp, interval=0.01, totalSize=1.1)"
   ]
  },
  {
   "cell_type": "code",
   "execution_count": 88,
   "metadata": {
    "collapsed": false
   },
   "outputs": [
    {
     "name": "stdout",
     "output_type": "stream",
     "text": [
      "[0.0, 0.007782101167315174, 0.12062256809338519, 0.1284046692607004, 0.13618677042801555, 0.25680933852140075, 0.3696498054474708, 0.377431906614786, 0.3852140077821012, 0.49805447470817116, 0.5058365758754862, 0.6186770428015563, 0.6264591439688716, 0.6342412451361867, 0.7470817120622567, 0.7548638132295719, 0.7626459143968871, 0.8715953307392995, 0.8793774319066147, 0.8871595330739299, 1.0]\n"
     ]
    }
   ],
   "source": [
    "print (diffFacebookNormalizedTimeStamp2[7])"
   ]
  },
  {
   "cell_type": "code",
   "execution_count": 43,
   "metadata": {
    "collapsed": false
   },
   "outputs": [],
   "source": [
    "diffTwitterNormalizedBuckets256 = arrangeInBuckets(timeStampArray=diffTwitterNormalizedTimeStamp256, interval=0.01, totalSize=1.2)\n",
    "diffFacebookNormalizedBuckets1 = arrangeInBuckets(timeStampArray=diffFacebookNormalizedTimeStamp1, interval=0.01, totalSize=1.2)\n",
    "diffFacebookNormalizedBuckets2 = arrangeInBuckets(timeStampArray=diffFacebookNormalizedTimeStamp2, interval=0.01, totalSize=1.2)\n",
    "diffFacebookNormalizedBuckets4 = arrangeInBuckets(timeStampArray=diffFacebookNormalizedTimeStamp4, interval=0.01, totalSize=1.2)\n",
    "diffFacebookNormalizedBuckets8 = arrangeInBuckets(timeStampArray=diffFacebookNormalizedTimeStamp8, interval=0.01, totalSize=1.2)\n",
    "diffFacebookNormalizedBuckets16 = arrangeInBuckets(timeStampArray=diffFacebookNormalizedTimeStamp16, interval=0.01, totalSize=1.2)\n"
   ]
  },
  {
   "cell_type": "markdown",
   "metadata": {
    "collapsed": false
   },
   "source": [
    "# print googleNormalizedBuckets.shape\n",
    "# print facebookNormalizedBuckets[:56,].shape\n",
    "print googleNormalizedBuckets.shape\n",
    "print facebookNormalizedBuckets.shape"
   ]
  },
  {
   "cell_type": "code",
   "execution_count": 182,
   "metadata": {
    "collapsed": true
   },
   "outputs": [
    {
     "name": "stdout",
     "output_type": "stream",
     "text": [
      "(110,)\n",
      "(96, 110)\n",
      "Accuracy is:  52.6315789474 %\n",
      "(96, 110)\n",
      "Accuracy is:  78.9473684211 %\n",
      "(96, 110)\n",
      "Accuracy is:  63.1578947368 %\n",
      "(96, 110)\n",
      "Accuracy is:  57.8947368421 %\n",
      "(96, 110)\n",
      "Accuracy is:  57.8947368421 %\n",
      "(96, 110)\n",
      "Accuracy is:  57.8947368421 %\n",
      "(96, 110)\n",
      "Accuracy is:  57.8947368421 %\n"
     ]
    }
   ],
   "source": [
    "normalizedDataSet = generateDataset(googleNormalizedBuckets, twitterNormalizedBuckets, 48, 48)\n",
    "run_classifier(trainingSet=normalizedDataSet[0], validationSet=normalizedDataSet[1] , \n",
    "               trainingLabels= normalizedDataSet[2],validationLabels=normalizedDataSet[3])\n",
    "# trainSet, validationSet, trainLabels, validationLabels]"
   ]
  },
  {
   "cell_type": "code",
   "execution_count": 171,
   "metadata": {
    "collapsed": true
   },
   "outputs": [
    {
     "name": "stdout",
     "output_type": "stream",
     "text": [
      "(120,)\n",
      "(20, 120)\n",
      "Accuracy is:  80.0 %\n",
      "(20, 120)\n",
      "Accuracy is:  78.8888888889 %\n",
      "(20, 120)\n",
      "Accuracy is:  78.8888888889 %\n",
      "(20, 120)\n",
      "Accuracy is:  78.8888888889 %\n",
      "(20, 120)\n",
      "Accuracy is:  78.8888888889 %\n"
     ]
    }
   ],
   "source": [
    "twitterGoogleDataset = generateDataset(timeStampBuckets, timeStampBucketsTwitter[:56,], 10, 10)\n",
    "run_classifier(trainingSet=twitterGoogleDataset[0], validationSet=twitterGoogleDataset[1] , \n",
    "               trainingLabels= twitterGoogleDataset[2],validationLabels=twitterGoogleDataset[3])"
   ]
  },
  {
   "cell_type": "markdown",
   "metadata": {},
   "source": [
    "# With a normalized bucket size of 0.01"
   ]
  },
  {
   "cell_type": "code",
   "execution_count": 232,
   "metadata": {
    "collapsed": false,
    "scrolled": true
   },
   "outputs": [
    {
     "name": "stdout",
     "output_type": "stream",
     "text": [
      "(113, 120)\n",
      "(90, 120)\n",
      "(90, 120)\n",
      "(90, 120)\n",
      "(91, 120)\n",
      "(91, 120)\n",
      "Accuracy:  96.4822134387 %\n",
      "4.82411067194\n",
      "5\n"
     ]
    }
   ],
   "source": [
    "#Timestamp bucket google vs facebook, 500ms bucket\n",
    "runKFold(timeStampBuckets, timeStampBucketsFB)"
   ]
  },
  {
   "cell_type": "markdown",
   "metadata": {},
   "source": [
    "#### Timestamp bucket google vs twitter 500ms bucket\n",
    "runKFold(timeStampBuckets, timeStampBucketsTwitter)"
   ]
  },
  {
   "cell_type": "code",
   "execution_count": 235,
   "metadata": {
    "collapsed": false,
    "scrolled": true
   },
   "outputs": [
    {
     "name": "stdout",
     "output_type": "stream",
     "text": [
      "(118, 120)\n",
      "(94, 120)\n",
      "(94, 120)\n",
      "(94, 120)\n",
      "(95, 120)\n",
      "(95, 120)\n",
      "Accuracy:  99.1666666667 %\n",
      "4.95833333333\n",
      "5\n"
     ]
    }
   ],
   "source": [
    "#Timestamp bucket facebook vs twitter, 500ms bucket\n",
    "runKFold(timeStampBucketsFB, timeStampBucketsTwitter)"
   ]
  },
  {
   "cell_type": "code",
   "execution_count": 264,
   "metadata": {
    "collapsed": false,
    "scrolled": true
   },
   "outputs": [
    {
     "name": "stdout",
     "output_type": "stream",
     "text": [
      "(117, 110)\n",
      "(93, 110)\n",
      "(93, 110)\n",
      "(94, 110)\n",
      "(94, 110)\n",
      "(94, 110)\n",
      "Accuracy:  65.0 %\n",
      "3.25\n",
      "5\n"
     ]
    }
   ],
   "source": [
    "#Normalized twitter vs google, 0.01 bucket\n",
    "runKFold(twitterNormalizedBuckets, googleNormalizedBuckets, 0.01)"
   ]
  },
  {
   "cell_type": "code",
   "execution_count": 229,
   "metadata": {
    "collapsed": false
   },
   "outputs": [
    {
     "name": "stdout",
     "output_type": "stream",
     "text": [
      "(118, 110)\n",
      "(94, 110)\n",
      "(94, 110)\n",
      "(94, 110)\n",
      "(95, 110)\n",
      "(95, 110)\n",
      "Accuracy:  85.5797101449 %\n",
      "4.27898550725\n",
      "5\n"
     ]
    }
   ],
   "source": [
    "#Normalized facebook vs twitter, 0.01 bucket\n",
    "runKFold(twitterNormalizedBuckets, facebookNormalizedBuckets)"
   ]
  },
  {
   "cell_type": "code",
   "execution_count": 230,
   "metadata": {
    "collapsed": false
   },
   "outputs": [
    {
     "name": "stdout",
     "output_type": "stream",
     "text": [
      "(113, 110)\n",
      "(90, 110)\n",
      "(90, 110)\n",
      "(90, 110)\n",
      "(91, 110)\n",
      "(91, 110)\n",
      "Accuracy:  76.7984189723 %\n",
      "3.83992094862\n",
      "5\n"
     ]
    }
   ],
   "source": [
    "#Normalized facebook vs google, 0.01 bucket\n",
    "runKFold(googleNormalizedBuckets, facebookNormalizedBuckets)"
   ]
  },
  {
   "cell_type": "code",
   "execution_count": 31,
   "metadata": {
    "collapsed": false
   },
   "outputs": [
    {
     "name": "stdout",
     "output_type": "stream",
     "text": [
      "(81, 110)\n",
      "(64, 110)\n",
      "(65, 110)\n",
      "(65, 110)\n",
      "(65, 110)\n",
      "(65, 110)\n",
      "Accuracy:  83.8235294118 %\n",
      "4.19117647059\n",
      "5\n"
     ]
    },
    {
     "name": "stderr",
     "output_type": "stream",
     "text": [
      "/usr/local/lib/python2.7/site-packages/sklearn/utils/validation.py:752: DataConversionWarning: A column-vector y was passed when a 1d array was expected. Please change the shape of y to (n_samples, ), for example using ravel().\n",
      "  y = column_or_1d(y, warn=True)\n"
     ]
    }
   ],
   "source": [
    "runKFold(googleNormalizedBuckets, youtubeNormalizedBuckets)"
   ]
  },
  {
   "cell_type": "code",
   "execution_count": 32,
   "metadata": {
    "collapsed": false
   },
   "outputs": [
    {
     "name": "stdout",
     "output_type": "stream",
     "text": [
      "(82, 110)\n",
      "(65, 110)\n",
      "(65, 110)\n",
      "(66, 110)\n",
      "(66, 110)\n",
      "(66, 110)\n",
      "Accuracy:  72.2794117647 %\n",
      "3.61397058824\n",
      "5\n"
     ]
    }
   ],
   "source": [
    "runKFold(facebookNormalizedBuckets, youtubeNormalizedBuckets)\n"
   ]
  },
  {
   "cell_type": "code",
   "execution_count": 38,
   "metadata": {
    "collapsed": false
   },
   "outputs": [
    {
     "name": "stdout",
     "output_type": "stream",
     "text": [
      "(118, 110)\n",
      "(94, 110)\n",
      "(94, 110)\n",
      "(94, 110)\n",
      "(95, 110)\n",
      "(95, 110)\n",
      "Accuracy:  78.8043478261 %\n",
      "3.9402173913\n",
      "5\n"
     ]
    }
   ],
   "source": [
    "runKFold(linkedInNormalizedBuckets, twitterNormalizedBuckets)"
   ]
  },
  {
   "cell_type": "code",
   "execution_count": 41,
   "metadata": {
    "collapsed": false,
    "scrolled": true
   },
   "outputs": [
    {
     "name": "stdout",
     "output_type": "stream",
     "text": [
      "(113, 110)\n",
      "(90, 110)\n",
      "(90, 110)\n",
      "(90, 110)\n",
      "(91, 110)\n",
      "(91, 110)\n",
      "Accuracy:  81.4229249012 %\n",
      "4.07114624506\n",
      "5\n"
     ]
    }
   ],
   "source": [
    "runKFold(linkedInNormalizedBuckets, googleNormalizedBuckets)"
   ]
  },
  {
   "cell_type": "markdown",
   "metadata": {},
   "source": [
    "# Changing Normalized Bucket Size to 0.1"
   ]
  },
  {
   "cell_type": "code",
   "execution_count": 337,
   "metadata": {
    "collapsed": true
   },
   "outputs": [],
   "source": [
    "googleNormalizedBuckets01 = arrangeInBuckets(googleNormalizedTimeStamp,  0.1, 1.1)\n",
    "facebookNormalizedBuckets01 = arrangeInBuckets(facebookNormalizedTimeStamp, 0.1, 1.1) \n",
    "twitterNormalizedBuckets01 = arrangeInBuckets(twitterNormalizedTimeStamp, 0.1, 1.1)"
   ]
  },
  {
   "cell_type": "code",
   "execution_count": 373,
   "metadata": {
    "collapsed": false
   },
   "outputs": [
    {
     "name": "stdout",
     "output_type": "stream",
     "text": [
      "(117, 11)\n",
      "(93, 11)\n",
      "(93, 11)\n",
      "(94, 11)\n",
      "(94, 11)\n",
      "(94, 11)\n",
      "Accuracy:  66.6304347826 %\n",
      "3.33152173913\n",
      "5\n"
     ]
    }
   ],
   "source": [
    "#Normalized twitter vs google, 0.01 bucket\n",
    "runKFold(googleNormalizedBuckets01, twitterNormalizedBuckets01, 1)"
   ]
  },
  {
   "cell_type": "code",
   "execution_count": 381,
   "metadata": {
    "collapsed": false
   },
   "outputs": [
    {
     "name": "stdout",
     "output_type": "stream",
     "text": [
      "(118, 11)\n",
      "(94, 11)\n",
      "(94, 11)\n",
      "(94, 11)\n",
      "(95, 11)\n",
      "(95, 11)\n",
      "Accuracy:  86.4130434783 %\n",
      "4.32065217391\n",
      "5\n"
     ]
    }
   ],
   "source": [
    "#Normalized facebook vs twitter, 0.01 bucket\n",
    "runKFold(facebookNormalizedBuckets01, twitterNormalizedBuckets01, 1)"
   ]
  },
  {
   "cell_type": "code",
   "execution_count": 382,
   "metadata": {
    "collapsed": false
   },
   "outputs": [
    {
     "name": "stdout",
     "output_type": "stream",
     "text": [
      "(113, 11)\n",
      "(90, 11)\n",
      "(90, 11)\n",
      "(90, 11)\n",
      "(91, 11)\n",
      "(91, 11)\n",
      "Accuracy:  85.8102766798 %\n",
      "4.29051383399\n",
      "5\n"
     ]
    }
   ],
   "source": [
    "#Normalized facebook vs google, 0.01 bucket\n",
    "runKFold(facebookNormalizedBuckets01, googleNormalizedBuckets01, 1)"
   ]
  },
  {
   "cell_type": "markdown",
   "metadata": {},
   "source": [
    "# Changing Normalized bucket size to 0.001\n"
   ]
  },
  {
   "cell_type": "code",
   "execution_count": 383,
   "metadata": {
    "collapsed": true
   },
   "outputs": [],
   "source": [
    "googleNormalizedBuckets0001 = arrangeInBuckets(googleNormalizedTimeStamp,  0.001, 1.1)\n",
    "facebookNormalizedBuckets0001 = arrangeInBuckets(facebookNormalizedTimeStamp, 0.001, 1.1) \n",
    "twitterNormalizedBuckets0001 = arrangeInBuckets(twitterNormalizedTimeStamp, 0.001, 1.1)"
   ]
  },
  {
   "cell_type": "code",
   "execution_count": 445,
   "metadata": {
    "collapsed": false
   },
   "outputs": [
    {
     "name": "stdout",
     "output_type": "stream",
     "text": [
      "(117, 1100)\n",
      "(93, 1100)\n",
      "(93, 1100)\n",
      "(94, 1100)\n",
      "(94, 1100)\n",
      "(94, 1100)\n",
      "Accuracy:  70.7608695652 %\n",
      "3.53804347826\n",
      "5\n"
     ]
    }
   ],
   "source": [
    "#Normalized twitter vs google, 0.0001 bucket\n",
    "runKFold(googleNormalizedBuckets0001, twitterNormalizedBuckets0001, 1)"
   ]
  },
  {
   "cell_type": "code",
   "execution_count": 454,
   "metadata": {
    "collapsed": false
   },
   "outputs": [
    {
     "name": "stdout",
     "output_type": "stream",
     "text": [
      "(118, 1100)\n",
      "(94, 1100)\n",
      "(94, 1100)\n",
      "(94, 1100)\n",
      "(95, 1100)\n",
      "(95, 1100)\n",
      "Accuracy:  70.4347826087 %\n",
      "3.52173913043\n",
      "5\n"
     ]
    }
   ],
   "source": [
    "#Normalized facebook vs twitter, 0.0001 bucket\n",
    "runKFold(facebookNormalizedBuckets0001, twitterNormalizedBuckets0001, 1)"
   ]
  },
  {
   "cell_type": "code",
   "execution_count": 470,
   "metadata": {
    "collapsed": false
   },
   "outputs": [
    {
     "name": "stdout",
     "output_type": "stream",
     "text": [
      "(113, 1100)\n",
      "(90, 1100)\n",
      "(90, 1100)\n",
      "(90, 1100)\n",
      "(91, 1100)\n",
      "(91, 1100)\n",
      "Accuracy:  69.209486166 %\n",
      "3.4604743083\n",
      "5\n"
     ]
    }
   ],
   "source": [
    "#Normalized facebook vs google, 0.0001 bucket\n",
    "runKFold(facebookNormalizedBuckets0001, googleNormalizedBuckets0001, 0.1)"
   ]
  },
  {
   "cell_type": "markdown",
   "metadata": {},
   "source": [
    "# Changing normalized bucket size to 0.2\n"
   ]
  },
  {
   "cell_type": "code",
   "execution_count": 476,
   "metadata": {
    "collapsed": true
   },
   "outputs": [],
   "source": [
    "googleNormalizedBuckets02 = arrangeInBuckets(googleNormalizedTimeStamp,  0.2, 1.4)\n",
    "facebookNormalizedBuckets02 = arrangeInBuckets(facebookNormalizedTimeStamp, 0.2, 1.4) \n",
    "twitterNormalizedBuckets02 = arrangeInBuckets(twitterNormalizedTimeStamp, 0.2, 1.4)"
   ]
  },
  {
   "cell_type": "code",
   "execution_count": 490,
   "metadata": {
    "collapsed": false
   },
   "outputs": [
    {
     "name": "stdout",
     "output_type": "stream",
     "text": [
      "(117, 6)\n",
      "(93, 6)\n",
      "(93, 6)\n",
      "(94, 6)\n",
      "(94, 6)\n",
      "(94, 6)\n",
      "Accuracy:  68.2608695652 %\n",
      "3.41304347826\n",
      "5\n"
     ]
    }
   ],
   "source": [
    "#Normalized twitter vs google, 0.2 bucket\n",
    "runKFold(googleNormalizedBuckets02, twitterNormalizedBuckets02, 1)"
   ]
  },
  {
   "cell_type": "code",
   "execution_count": 485,
   "metadata": {
    "collapsed": false
   },
   "outputs": [
    {
     "name": "stdout",
     "output_type": "stream",
     "text": [
      "(118, 6)\n",
      "(94, 6)\n",
      "(94, 6)\n",
      "(94, 6)\n",
      "(95, 6)\n",
      "(95, 6)\n",
      "Accuracy:  88.9492753623 %\n",
      "4.44746376812\n",
      "5\n"
     ]
    }
   ],
   "source": [
    "#Normalized facebook vs twitter, 0.2 bucket\n",
    "runKFold(facebookNormalizedBuckets02, twitterNormalizedBuckets02, 1)"
   ]
  },
  {
   "cell_type": "code",
   "execution_count": 488,
   "metadata": {
    "collapsed": false
   },
   "outputs": [
    {
     "name": "stdout",
     "output_type": "stream",
     "text": [
      "(113, 6)\n",
      "(90, 6)\n",
      "(90, 6)\n",
      "(90, 6)\n",
      "(91, 6)\n",
      "(91, 6)\n",
      "Accuracy:  87.628458498 %\n",
      "4.3814229249\n",
      "5\n"
     ]
    }
   ],
   "source": [
    "#Normalized facebook vs google, 0.2 bucket\n",
    "runKFold(facebookNormalizedBuckets02, googleNormalizedBuckets02, 1)"
   ]
  },
  {
   "cell_type": "markdown",
   "metadata": {},
   "source": [
    "# Changing normalized bucket size to 0.5"
   ]
  },
  {
   "cell_type": "code",
   "execution_count": 491,
   "metadata": {
    "collapsed": true
   },
   "outputs": [],
   "source": [
    "googleNormalizedBuckets05 = arrangeInBuckets(googleNormalizedTimeStamp,  0.5, 1.5)\n",
    "facebookNormalizedBuckets05 = arrangeInBuckets(facebookNormalizedTimeStamp, 0.5, 1.5) \n",
    "twitterNormalizedBuckets05 = arrangeInBuckets(twitterNormalizedTimeStamp, 0.5, 1.5)"
   ]
  },
  {
   "cell_type": "code",
   "execution_count": 492,
   "metadata": {
    "collapsed": false
   },
   "outputs": [
    {
     "name": "stdout",
     "output_type": "stream",
     "text": [
      "(117, 3)\n",
      "(93, 3)\n",
      "(93, 3)\n",
      "(94, 3)\n",
      "(94, 3)\n",
      "(94, 3)\n",
      "Accuracy:  60.7608695652 %\n",
      "3.03804347826\n",
      "5\n"
     ]
    }
   ],
   "source": [
    "#Normalized twitter vs google, 0.5 bucket\n",
    "runKFold(googleNormalizedBuckets05, twitterNormalizedBuckets05, 1)"
   ]
  },
  {
   "cell_type": "code",
   "execution_count": 493,
   "metadata": {
    "collapsed": false
   },
   "outputs": [
    {
     "name": "stdout",
     "output_type": "stream",
     "text": [
      "(118, 3)\n",
      "(94, 3)\n",
      "(94, 3)\n",
      "(94, 3)\n",
      "(95, 3)\n",
      "(95, 3)\n",
      "Accuracy:  90.652173913 %\n",
      "4.53260869565\n",
      "5\n"
     ]
    }
   ],
   "source": [
    "#Normalized facebook vs twitter, 0.5 bucket\n",
    "runKFold(facebookNormalizedBuckets05, twitterNormalizedBuckets05, 1)"
   ]
  },
  {
   "cell_type": "code",
   "execution_count": 494,
   "metadata": {
    "collapsed": false
   },
   "outputs": [
    {
     "name": "stdout",
     "output_type": "stream",
     "text": [
      "(118, 3)\n",
      "(94, 3)\n",
      "(94, 3)\n",
      "(94, 3)\n",
      "(95, 3)\n",
      "(95, 3)\n",
      "Accuracy:  90.5797101449 %\n",
      "4.52898550725\n",
      "5\n"
     ]
    }
   ],
   "source": [
    "#Normalized facebook vs twitter, 0.5 bucket\n",
    "runKFold(facebookNormalizedBuckets05, twitterNormalizedBuckets05, 1)"
   ]
  },
  {
   "cell_type": "markdown",
   "metadata": {},
   "source": [
    "# Changing normalized bucket size to 1"
   ]
  },
  {
   "cell_type": "code",
   "execution_count": 497,
   "metadata": {
    "collapsed": true
   },
   "outputs": [],
   "source": [
    "googleNormalizedBuckets1 = arrangeInBuckets(googleNormalizedTimeStamp,  1, 2)\n",
    "facebookNormalizedBuckets1 = arrangeInBuckets(facebookNormalizedTimeStamp, 1, 2) \n",
    "twitterNormalizedBuckets1 = arrangeInBuckets(twitterNormalizedTimeStamp, 1, 2)"
   ]
  },
  {
   "cell_type": "code",
   "execution_count": 503,
   "metadata": {
    "collapsed": false
   },
   "outputs": [
    {
     "name": "stdout",
     "output_type": "stream",
     "text": [
      "(117, 2)\n",
      "(93, 2)\n",
      "(93, 2)\n",
      "(94, 2)\n",
      "(94, 2)\n",
      "(94, 2)\n",
      "Accuracy:  51.231884058 %\n",
      "2.5615942029\n",
      "5\n"
     ]
    }
   ],
   "source": [
    "#Normalized twitter vs google, 1 bucket\n",
    "runKFold(googleNormalizedBuckets1, twitterNormalizedBuckets1, 100)"
   ]
  },
  {
   "cell_type": "code",
   "execution_count": 504,
   "metadata": {
    "collapsed": false
   },
   "outputs": [
    {
     "name": "stdout",
     "output_type": "stream",
     "text": [
      "(118, 2)\n",
      "(94, 2)\n",
      "(94, 2)\n",
      "(94, 2)\n",
      "(95, 2)\n",
      "(95, 2)\n",
      "Accuracy:  90.652173913 %\n",
      "4.53260869565\n",
      "5\n"
     ]
    }
   ],
   "source": [
    "#Normalized facebook vs twitter, 1 bucket\n",
    "runKFold(facebookNormalizedBuckets1, twitterNormalizedBuckets1, 1)"
   ]
  },
  {
   "cell_type": "code",
   "execution_count": 505,
   "metadata": {
    "collapsed": false
   },
   "outputs": [
    {
     "name": "stdout",
     "output_type": "stream",
     "text": [
      "(118, 2)\n",
      "(94, 2)\n",
      "(94, 2)\n",
      "(94, 2)\n",
      "(95, 2)\n",
      "(95, 2)\n",
      "Accuracy:  90.7246376812 %\n",
      "4.53623188406\n",
      "5\n"
     ]
    }
   ],
   "source": [
    "#Normalized facebook vs twitter, 1 bucket\n",
    "runKFold(facebookNormalizedBuckets1, twitterNormalizedBuckets1, 1)"
   ]
  },
  {
   "cell_type": "markdown",
   "metadata": {},
   "source": [
    "### Inference: Total number of packets gives better distinction for websites with different  no. of packets"
   ]
  },
  {
   "cell_type": "markdown",
   "metadata": {},
   "source": [
    "# Total Number of Blinks\n"
   ]
  },
  {
   "cell_type": "code",
   "execution_count": 521,
   "metadata": {
    "collapsed": false
   },
   "outputs": [
    {
     "name": "stdout",
     "output_type": "stream",
     "text": [
      "Mean number of blinks for google is: 117.236363636\n"
     ]
    }
   ],
   "source": [
    "print 'Mean number of blinks for google is:', getMeanBlinks(timeStampArrayNP)"
   ]
  },
  {
   "cell_type": "code",
   "execution_count": 523,
   "metadata": {
    "collapsed": false
   },
   "outputs": [
    {
     "name": "stdout",
     "output_type": "stream",
     "text": [
      "Mean number of blinks for facebook is: 193.964285714\n"
     ]
    }
   ],
   "source": [
    "print 'Mean number of blinks for facebook is:', getMeanBlinks(timeStampArrayFBNP)"
   ]
  },
  {
   "cell_type": "code",
   "execution_count": 524,
   "metadata": {
    "collapsed": false
   },
   "outputs": [
    {
     "name": "stdout",
     "output_type": "stream",
     "text": [
      "Mean number of blinks for twitter is: 121.566666667\n"
     ]
    }
   ],
   "source": [
    "print 'Mean number of blinks for twitter is:', getMeanBlinks(timeStampArrayTwitterNP)"
   ]
  },
  {
   "cell_type": "code",
   "execution_count": 67,
   "metadata": {
    "collapsed": false
   },
   "outputs": [
    {
     "name": "stdout",
     "output_type": "stream",
     "text": [
      "Mean number of blinks for linkedIn is: 82.9642857143\n"
     ]
    }
   ],
   "source": [
    "print 'Mean number of blinks for linkedIn is:', getMeanBlinks(timeStampArrayLinkedInNP)"
   ]
  },
  {
   "cell_type": "code",
   "execution_count": 66,
   "metadata": {
    "collapsed": false
   },
   "outputs": [
    {
     "name": "stdout",
     "output_type": "stream",
     "text": [
      "Mean number of blinks for youtube is: 343.5\n"
     ]
    }
   ],
   "source": [
    "print 'Mean number of blinks for youtube is:', getMeanBlinks(timeStampArrayYoutubeNP)"
   ]
  },
  {
   "cell_type": "markdown",
   "metadata": {},
   "source": [
    "# Mean time taken for page load"
   ]
  },
  {
   "cell_type": "code",
   "execution_count": 69,
   "metadata": {
    "collapsed": false
   },
   "outputs": [
    {
     "name": "stdout",
     "output_type": "stream",
     "text": [
      "\n"
     ]
    }
   ],
   "source": [
    "def meanTimeTaken(timeStampArray):\n",
    "    timeDiffSum = 0.0\n",
    "    for i in range(timeStampArray.shape[0]):\n",
    "        timeDiffSum += timeStampArray[i][len(timeStampArray[i])-1] - timeStampArray[i][0]\n",
    "    return timeDiffSum/(i*1000)"
   ]
  },
  {
   "cell_type": "code",
   "execution_count": 541,
   "metadata": {
    "collapsed": false
   },
   "outputs": [
    {
     "name": "stdout",
     "output_type": "stream",
     "text": [
      "Mean number to load google is: 13.5981818182 s\n"
     ]
    }
   ],
   "source": [
    "print 'Mean time to load google is:', meanTimeTaken(timeStampArrayNP), 's'"
   ]
  },
  {
   "cell_type": "code",
   "execution_count": 542,
   "metadata": {
    "collapsed": false
   },
   "outputs": [
    {
     "name": "stdout",
     "output_type": "stream",
     "text": [
      "Mean time to load facebook is: 26.6416666667 s\n"
     ]
    }
   ],
   "source": [
    "print 'Mean time to load facebook is:', meanTimeTaken(timeStampArrayFBNP), 's'"
   ]
  },
  {
   "cell_type": "code",
   "execution_count": 543,
   "metadata": {
    "collapsed": false
   },
   "outputs": [
    {
     "name": "stdout",
     "output_type": "stream",
     "text": [
      "Mean time to load twitter is: 15.5272222222 s\n"
     ]
    }
   ],
   "source": [
    "print 'Mean time to load twitter is:', meanTimeTaken(timeStampArrayTwitterNP), 's'"
   ]
  },
  {
   "cell_type": "code",
   "execution_count": 73,
   "metadata": {
    "collapsed": false
   },
   "outputs": [
    {
     "name": "stdout",
     "output_type": "stream",
     "text": [
      " Mean time to load linkedIn is: 9.53452380952 s\n"
     ]
    }
   ],
   "source": [
    "print 'Mean time to load linkedIn is:', meanTimeTaken(timeStampArrayLinkedInNP), 's'"
   ]
  },
  {
   "cell_type": "code",
   "execution_count": 71,
   "metadata": {
    "collapsed": false
   },
   "outputs": [
    {
     "name": "stdout",
     "output_type": "stream",
     "text": [
      " Mean time to load youtubre is: 31.0027777778 s\n"
     ]
    }
   ],
   "source": [
    "print 'Mean time to load youtubre is:', meanTimeTaken(timeStampArrayYoutubeNP), 's'"
   ]
  },
  {
   "cell_type": "code",
   "execution_count": null,
   "metadata": {
    "collapsed": true
   },
   "outputs": [],
   "source": []
  },
  {
   "cell_type": "markdown",
   "metadata": {},
   "source": [
    "# Get total blinks"
   ]
  },
  {
   "cell_type": "code",
   "execution_count": 551,
   "metadata": {
    "collapsed": true
   },
   "outputs": [
    {
     "name": "stdout",
     "output_type": "stream",
     "text": [
      "182 30833.3333333\n",
      "225 30733.3333333\n",
      "232 33833.3333333\n",
      "194 26300.0\n",
      "217 30533.3333333\n",
      "165 25433.3333333\n",
      "6 1800.0\n",
      "221 30433.3333333\n",
      "186 29966.6666667\n",
      "185 24966.6666667\n",
      "233 32233.3333333\n",
      "152 26600.0\n",
      "191 25533.3333333\n",
      "185 24700.0\n",
      "208 32433.3333333\n",
      "195 30400.0\n",
      "165 25800.0\n",
      "184 25066.6666667\n",
      "195 25766.6666667\n",
      "185 25000.0\n",
      "133 26400.0\n",
      "129 29800.0\n",
      "226 25133.3333333\n",
      "274 30033.3333333\n",
      "272 31866.6666667\n",
      "274 30833.3333333\n",
      "223 24933.3333333\n",
      "133 24066.6666667\n",
      "277 31266.6666667\n",
      "234 26266.6666667\n",
      "241 25733.3333333\n",
      "206 24533.3333333\n",
      "270 29900.0\n",
      "222 25100.0\n",
      "218 25466.6666667\n",
      "210 25533.3333333\n",
      "264 32733.3333333\n",
      "238 26400.0\n",
      "275 31666.6666667\n",
      "210 26233.3333333\n",
      "278 30700.0\n",
      "270 30366.6666667\n",
      "186 24900.0\n",
      "174 30366.6666667\n",
      "12 1800.0\n",
      "13 1733.33333333\n",
      "178 25500.0\n",
      "215 31966.6666667\n",
      "186 25100.0\n",
      "175 24966.6666667\n",
      "173 24400.0\n",
      "142 25066.6666667\n",
      "161 25533.3333333\n",
      "67 16966.6666667\n",
      "91 25533.3333333\n",
      "127 29633.3333333\n",
      "179 25133.3333333\n"
     ]
    }
   ],
   "source": [
    "# Total Blinks and Time for FB\n",
    "getTotalBlinksAndTime(timeStampArrayFBNP)"
   ]
  },
  {
   "cell_type": "code",
   "execution_count": 549,
   "metadata": {
    "collapsed": true
   },
   "outputs": [
    {
     "name": "stdout",
     "output_type": "stream",
     "text": [
      "115 16133.3333333\n",
      "124 16500.0\n",
      "127 16633.3333333\n",
      "119 16233.3333333\n",
      "129 16933.3333333\n",
      "122 16500.0\n",
      "121 17000.0\n",
      "124 15400.0\n",
      "138 16533.3333333\n",
      "120 15100.0\n",
      "129 15833.3333333\n",
      "114 15300.0\n",
      "120 15033.3333333\n",
      "119 14600.0\n",
      "113 13800.0\n",
      "121 14966.6666667\n",
      "118 14166.6666667\n",
      "121 16066.6666667\n",
      "121 15300.0\n",
      "118 14900.0\n",
      "110 15066.6666667\n",
      "116 14900.0\n",
      "120 15566.6666667\n",
      "124 15200.0\n",
      "121 14866.6666667\n",
      "123 15466.6666667\n",
      "110 15566.6666667\n",
      "120 14966.6666667\n",
      "120 14566.6666667\n",
      "114 14533.3333333\n",
      "121 15066.6666667\n",
      "117 14933.3333333\n",
      "120 14966.6666667\n",
      "129 15033.3333333\n",
      "110 15000.0\n",
      "118 15633.3333333\n",
      "114 13566.6666667\n",
      "113 15100.0\n",
      "117 14600.0\n",
      "111 14333.3333333\n",
      "137 15966.6666667\n",
      "119 13966.6666667\n",
      "113 15000.0\n",
      "116 14966.6666667\n",
      "116 15000.0\n",
      "116 15466.6666667\n",
      "123 15766.6666667\n",
      "111 15966.6666667\n",
      "114 14166.6666667\n",
      "115 14466.6666667\n",
      "127 15266.6666667\n",
      "125 15066.6666667\n",
      "125 15766.6666667\n",
      "117 15900.0\n",
      "124 15400.0\n",
      "118 15500.0\n",
      "110 14600.0\n",
      "129 15333.3333333\n",
      "123 15566.6666667\n",
      "125 15300.0\n",
      "110 15333.3333333\n"
     ]
    }
   ],
   "source": [
    "# Total Blinks and Time for Twitter\n",
    "getTotalBlinksAndTime(timeStampArrayTwitterNP)"
   ]
  },
  {
   "cell_type": "code",
   "execution_count": 552,
   "metadata": {
    "collapsed": true
   },
   "outputs": [
    {
     "name": "stdout",
     "output_type": "stream",
     "text": [
      "74 8733.33333333\n",
      "21 10100.0\n",
      "12 9000.0\n",
      "114 12100.0\n",
      "106 10300.0\n",
      "120 14233.3333333\n",
      "128 12666.6666667\n",
      "114 10800.0\n",
      "110 11133.3333333\n",
      "195 20266.6666667\n",
      "116 12233.3333333\n",
      "117 15166.6666667\n",
      "110 11200.0\n",
      "116 11966.6666667\n",
      "111 11733.3333333\n",
      "120 13300.0\n",
      "124 12366.6666667\n",
      "118 12766.6666667\n",
      "119 14033.3333333\n",
      "116 12133.3333333\n",
      "122 13866.6666667\n",
      "113 11333.3333333\n",
      "132 14533.3333333\n",
      "123 13300.0\n",
      "114 10900.0\n",
      "109 11266.6666667\n",
      "117 13833.3333333\n",
      "127 14033.3333333\n",
      "111 11633.3333333\n",
      "111 10366.6666667\n",
      "120 20733.3333333\n",
      "122 16466.6666667\n",
      "56 11366.6666667\n",
      "115 15833.3333333\n",
      "113 10933.3333333\n",
      "127 19966.6666667\n",
      "125 20100.0\n",
      "130 16700.0\n",
      "113 12300.0\n",
      "186 23466.6666667\n",
      "118 12900.0\n",
      "116 12333.3333333\n",
      "122 14100.0\n",
      "120 11766.6666667\n",
      "111 10733.3333333\n",
      "112 11433.3333333\n",
      "113 11666.6666667\n",
      "113 12033.3333333\n",
      "131 16133.3333333\n",
      "119 14133.3333333\n",
      "118 11833.3333333\n",
      "122 11800.0\n",
      "117 11700.0\n",
      "122 18133.3333333\n",
      "121 12233.3333333\n",
      "126 15800.0\n"
     ]
    }
   ],
   "source": [
    "# Total Blinks and Time for Google\n",
    "getTotalBlinksAndTime(timeStampArrayNP)"
   ]
  },
  {
   "cell_type": "markdown",
   "metadata": {},
   "source": [
    "# Run multiclass SVM\n"
   ]
  },
  {
   "cell_type": "code",
   "execution_count": 570,
   "metadata": {
    "collapsed": false
   },
   "outputs": [
    {
     "name": "stdout",
     "output_type": "stream",
     "text": [
      "(15, 120)\n",
      "(23, 120)\n",
      "(120,)\n",
      "(144, 120)\n",
      "Accuracy is:  52.1739130435 %\n",
      "(144, 120)\n",
      "Accuracy is:  52.1739130435 %\n",
      "(144, 120)\n",
      "Accuracy is:  56.5217391304 %\n",
      "(144, 120)\n",
      "Accuracy is:  60.8695652174 %\n",
      "(144, 120)\n",
      "Accuracy is:  60.8695652174 %\n",
      "(144, 120)\n",
      "Accuracy is:  60.8695652174 %\n",
      "(144, 120)\n",
      "Accuracy is:  60.8695652174 %\n",
      "(144, 120)\n",
      "Accuracy is:  60.8695652174 %\n",
      "(144, 120)\n",
      "Accuracy is:  60.8695652174 %\n"
     ]
    }
   ],
   "source": [
    "multiClassDataSet = generateMultiLabelDataset(timeStampBuckets, timeStampBucketsFB[:57,:], timeStampBucketsTwitter[:57,:]\n",
    "                                              timeStampBucketsLinkedIn timeStampBuckets,  48, 48, 48, 48, )\n",
    "run_classifier(trainingSet=multiClassDataSet[0], validationSet=multiClassDataSet[1] , \n",
    "               trainingLabels= multiClassDataSet[2],validationLabels=multiClassDataSet[3])"
   ]
  },
  {
   "cell_type": "code",
   "execution_count": 562,
   "metadata": {
    "collapsed": false
   },
   "outputs": [
    {
     "name": "stdout",
     "output_type": "stream",
     "text": [
      "(144, 120)\n",
      "(152, 120)\n",
      "(152, 1)\n",
      "(15, 1)\n"
     ]
    }
   ],
   "source": [
    "print multiClassDataSet[0].shape\n",
    "print multiClassDataSet[1].shape\n",
    "print multiClassDataSet[2].shape\n",
    "print multiClassDataSet[3].shape"
   ]
  },
  {
   "cell_type": "code",
   "execution_count": 36,
   "metadata": {
    "collapsed": false
   },
   "outputs": [
    {
     "name": "stdout",
     "output_type": "stream",
     "text": [
      "(256, 120)\n",
      "(256, 1)\n"
     ]
    }
   ],
   "source": [
    "multiData = np.vstack((timeStampBuckets, timeStampBucketsFB, timeStampBucketsTwitter, timeStampBucketsLinkedIn, timeStampBucketsYoutube))\n",
    "multiLabels = np.vstack((np.ones((timeStampBuckets.shape[0], 1)) , 2*np.ones((timeStampBucketsFB.shape[0],1 ))\n",
    "                        ,3*np.ones((timeStampBucketsTwitter.shape[0], 1)), 4*np.ones((timeStampBucketsLinkedIn.shape[0], 1))\n",
    "                                   , 5*np.ones((timeStampBucketsYoutube.shape[0], 1))\n",
    "                        ))\n",
    "print multiData.shape\n",
    "print multiLabels.shape"
   ]
  },
  {
   "cell_type": "code",
   "execution_count": 31,
   "metadata": {
    "collapsed": false
   },
   "outputs": [
    {
     "name": "stdout",
     "output_type": "stream",
     "text": [
      "(204, 120)\n",
      "Normalized confusion matrix\n",
      "[[ 0.67  0.11  0.11  0.11  0.  ]\n",
      " [ 0.    1.    0.    0.    0.  ]\n",
      " [ 0.08  0.    0.92  0.    0.  ]\n",
      " [ 0.    0.    0.1   0.9   0.  ]\n",
      " [ 0.    0.2   0.    0.2   0.6 ]]\n",
      "(205, 120)\n",
      "(205, 120)\n",
      "(205, 120)\n",
      "(205, 120)\n",
      "Accuracy:  81.2292609351 %\n",
      "4.06146304676\n",
      "5\n"
     ]
    }
   ],
   "source": [
    "# One vs all SVM, non-normalized\n",
    "runMultiKFold(multiData, multiLabels, c = 10)"
   ]
  },
  {
   "cell_type": "code",
   "execution_count": null,
   "metadata": {
    "collapsed": true
   },
   "outputs": [],
   "source": [
    "multiNormalizedData = np.vstack((googleNormalizedBuckets, facebookNormalizedBuckets, twitterNormalizedBuckets))\n",
    "multiNormalizedLabels = np.vstack((np.ones((googleNormalizedBuckets.shape[0], 1)) , 2*np.ones((facebookNormalizedBuckets.shape[0],1 ))\n",
    "                        ,3*np.ones((twitterNormalizedBuckets.shape[0], 1))\n",
    "                        ))"
   ]
  },
  {
   "cell_type": "code",
   "execution_count": null,
   "metadata": {
    "collapsed": true
   },
   "outputs": [],
   "source": [
    "runMultiKFold(multiNormalizedData, multiNormalizedLabels, c = 1)"
   ]
  },
  {
   "cell_type": "code",
   "execution_count": 28,
   "metadata": {
    "collapsed": true
   },
   "outputs": [],
   "source": [
    " \n",
    "def plot_confusion_matrix(cm, classes,\n",
    "                          normalize=False,\n",
    "                          title='Confusion matrix',\n",
    "                          cmap=plt.cm.Blues):\n",
    "    \"\"\"\n",
    "    This function prints and plots the confusion matrix.\n",
    "    Normalization can be applied by setting `normalize=True`.\n",
    "    \"\"\"\n",
    "    if normalize:\n",
    "        cm = cm.astype('float') / cm.sum(axis=1)[:, np.newaxis]\n",
    "        print(\"Normalized confusion matrix\")\n",
    "    else:\n",
    "        print('Confusion matrix, without normalization')\n",
    "\n",
    "    print(cm)\n",
    "\n",
    "    plt.imshow(cm, interpolation='nearest', cmap=cmap)\n",
    "    plt.title(title)\n",
    "    plt.colorbar()\n",
    "    tick_marks = np.arange(len(classes))\n",
    "    plt.xticks(tick_marks, classes, rotation=45)\n",
    "    plt.yticks(tick_marks, classes)\n",
    "\n",
    "    fmt = '.2f' if normalize else 'd'\n",
    "    thresh = cm.max() / 2.\n",
    "    for i, j in itertools.product(range(cm.shape[0]), range(cm.shape[1])):\n",
    "        plt.text(j, i, format(cm[i, j], fmt),\n",
    "                 horizontalalignment=\"center\",\n",
    "                 color=\"white\" if cm[i, j] > thresh else \"black\")\n",
    "\n",
    "    plt.ylabel('True label')\n",
    "    plt.xlabel('Predicted label')\n",
    "    plt.tight_layout()\n",
    "\n",
    "\n"
   ]
  },
  {
   "cell_type": "markdown",
   "metadata": {
    "collapsed": true
   },
   "source": [
    "# Compare the normalized twitter 256 dataset with the existing set\n"
   ]
  },
  {
   "cell_type": "code",
   "execution_count": 31,
   "metadata": {
    "collapsed": true
   },
   "outputs": [],
   "source": [
    "def getClassifyModel(trainData, trainLabels, c):\n",
    "    classifier = classifyTrain(trainData, trainLabels, c)\n",
    "    return c"
   ]
  },
  {
   "cell_type": "code",
   "execution_count": 54,
   "metadata": {
    "collapsed": false
   },
   "outputs": [
    {
     "name": "stdout",
     "output_type": "stream",
     "text": [
      "(256, 120)\n"
     ]
    }
   ],
   "source": [
    "model = classifyTrain(multiData, multiLabels, 100)"
   ]
  },
  {
   "cell_type": "code",
   "execution_count": 55,
   "metadata": {
    "collapsed": false
   },
   "outputs": [
    {
     "name": "stdout",
     "output_type": "stream",
     "text": [
      "[ 1.  2.  2.  1.  2.  1.  2.  1.  1.  3.]\n",
      "Accuracy =  10.0 %\n"
     ]
    }
   ],
   "source": [
    "# evaluate accuracy of twitter predictions at 256kbps\n",
    "model = classifyTrain(multiData, multiLabels, 100)\n",
    "preds = model.predict(diffTwitterNormalizedBuckets256)\n",
    "print preds\n",
    "acc = 0.0\n",
    "for i in preds:\n",
    "    if i == 3: acc+=1\n",
    "print 'Accuracy = ', (acc/len(preds))*100, '%'"
   ]
  },
  {
   "cell_type": "code",
   "execution_count": 59,
   "metadata": {
    "collapsed": false
   },
   "outputs": [
    {
     "name": "stdout",
     "output_type": "stream",
     "text": [
      "(256, 120)\n",
      "[ 2.  1.  4.  5.  1.  1.  2.]\n",
      "Accuracy =  28.5714285714 %\n"
     ]
    }
   ],
   "source": [
    "# evaluate accuracy of facebook predictions at 1Mbps\n",
    "model = classifyTrain(multiData, multiLabels, 10)\n",
    "# print model.predict(diffFacebookNormalizedBuckets1)\n",
    "preds = model.predict(diffFacebookNormalizedBuckets1)\n",
    "print preds\n",
    "acc = 0.0\n",
    "for i in preds:\n",
    "    if i == 2: acc+=1\n",
    "print 'Accuracy = ', (acc/len(preds))*100, '%'"
   ]
  },
  {
   "cell_type": "code",
   "execution_count": 61,
   "metadata": {
    "collapsed": false
   },
   "outputs": [
    {
     "name": "stdout",
     "output_type": "stream",
     "text": [
      "(256, 120)\n",
      "[ 1.  2.  1.  2.  2.  2.  1.  5.  1.  2.  2.  2.  2.  2.  2.  2.]\n",
      "Accuracy =  68.75 %\n"
     ]
    }
   ],
   "source": [
    "# evaluate accuracy of facebook predictions at 2Mbps\n",
    "# print model.predict(diffFacebookNormalizedBuckets2)\n",
    "model = classifyTrain(multiData, multiLabels, 10)\n",
    "preds = model.predict(diffFacebookNormalizedBuckets2)\n",
    "print preds\n",
    "acc = 0.0\n",
    "for i in preds:\n",
    "    if i == 2: acc+=1\n",
    "print 'Accuracy = ', (acc/len(preds))*100, '%'"
   ]
  },
  {
   "cell_type": "code",
   "execution_count": 63,
   "metadata": {
    "collapsed": false
   },
   "outputs": [
    {
     "name": "stdout",
     "output_type": "stream",
     "text": [
      "(256, 120)\n",
      "[ 2.  2.  2.  1.  2.  2.  2.  1.  1.  2.  2.  2.  2.  2.  2.  2.  2.  2.\n",
      "  1.  1.  1.  1.]\n",
      "Accuracy =  68.1818181818 %\n"
     ]
    }
   ],
   "source": [
    "model = classifyTrain(multiData, multiLabels, 10)\n",
    "preds = model.predict(diffFacebookNormalizedBuckets4)\n",
    "print preds\n",
    "acc = 0.0\n",
    "for i in preds:\n",
    "    if i == 2: acc+=1\n",
    "print 'Accuracy = ', (acc/len(preds))*100, '%'"
   ]
  },
  {
   "cell_type": "code",
   "execution_count": 64,
   "metadata": {
    "collapsed": false
   },
   "outputs": [
    {
     "name": "stdout",
     "output_type": "stream",
     "text": [
      "(256, 120)\n",
      "[ 2.  1.  2.  2.  1.  1.  1.  2.  2.  1.]\n",
      "Accuracy =  50.0 %\n"
     ]
    }
   ],
   "source": [
    "model = classifyTrain(multiData, multiLabels, 10)\n",
    "preds = model.predict(diffFacebookNormalizedBuckets8)\n",
    "print preds\n",
    "acc = 0.0\n",
    "for i in preds:\n",
    "    if i == 2: acc+=1\n",
    "print 'Accuracy = ', (acc/len(preds))*100, '%'"
   ]
  },
  {
   "cell_type": "code",
   "execution_count": 65,
   "metadata": {
    "collapsed": false
   },
   "outputs": [
    {
     "name": "stdout",
     "output_type": "stream",
     "text": [
      "(256, 120)\n",
      "[ 1.  2.  1.  2.  2.  1.]\n",
      "Accuracy =  50.0 %\n"
     ]
    }
   ],
   "source": [
    "model = classifyTrain(multiData, multiLabels, 10)\n",
    "preds = model.predict(diffFacebookNormalizedBuckets16)\n",
    "print preds\n",
    "acc = 0.0\n",
    "for i in preds:\n",
    "    if i == 2: acc+=1\n",
    "print 'Accuracy = ', (acc/len(preds))*100, '%'"
   ]
  },
  {
   "cell_type": "code",
   "execution_count": 75,
   "metadata": {
    "collapsed": true
   },
   "outputs": [],
   "source": [
    "\n",
    "# writeToFile(facebookNormalizedBuckets, 'facebookNormalizedTimeStamp512.csv')          \n",
    "# writeToFile(diffFacebookNormalizedBuckets2, 'facebookNormalizedTimeStamp2.csv')\n",
    " \n",
    "# writeToFile(diffFacebookNormalizedBuckets4, 'facebookNormalizedTimeStamp4.csv')\n",
    "# writeToFile(diffFacebookNormalizedBuckets8, 'facebookNormalizedTimeStamp8.csv')\n",
    "# writeToFile(diffFacebookNormalizedBuckets16, 'facebookNormalizedTimeStamp16.csv')\n",
    "\n",
    "writeToFile(diffTwitterNormalizedBuckets256, 'twitterNormalizedTimeStamps256.csv')\n",
    "writeToFile(twitterNormalizedBuckets, 'twitterNormalizedTimeStamps512.csv')\n",
    "\n",
    "       \n"
   ]
  },
  {
   "cell_type": "code",
   "execution_count": null,
   "metadata": {
    "collapsed": true
   },
   "outputs": [],
   "source": []
  }
 ],
 "metadata": {
  "kernelspec": {
   "display_name": "Python 2",
   "language": "python",
   "name": "python2"
  },
  "language_info": {
   "codemirror_mode": {
    "name": "ipython",
    "version": 2
   },
   "file_extension": ".py",
   "mimetype": "text/x-python",
   "name": "python",
   "nbconvert_exporter": "python",
   "pygments_lexer": "ipython2",
   "version": "2.7.15"
  }
 },
 "nbformat": 4,
 "nbformat_minor": 2
}
